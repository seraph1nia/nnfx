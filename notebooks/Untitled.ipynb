{
 "cells": [
  {
   "cell_type": "code",
   "execution_count": 1,
   "id": "02309688",
   "metadata": {},
   "outputs": [
    {
     "ename": "ModuleNotFoundError",
     "evalue": "No module named 'talib'",
     "output_type": "error",
     "traceback": [
      "\u001b[0;31m---------------------------------------------------------------------------\u001b[0m",
      "\u001b[0;31mModuleNotFoundError\u001b[0m                       Traceback (most recent call last)",
      "\u001b[1;32m/home/barttange/projects/seraph1nia/algobacktest/notebooks/Untitled.ipynb Cell 1\u001b[0m in \u001b[0;36m<cell line: 20>\u001b[0;34m()\u001b[0m\n\u001b[1;32m     <a href='vscode-notebook-cell://wsl%2Bubuntu-20.04/home/barttange/projects/seraph1nia/algobacktest/notebooks/Untitled.ipynb#W0sdnNjb2RlLXJlbW90ZQ%3D%3D?line=15'>16</a>\u001b[0m     rs \u001b[39m=\u001b[39m gain\u001b[39m.\u001b[39mewm(n)\u001b[39m.\u001b[39mmean() \u001b[39m/\u001b[39m loss\u001b[39m.\u001b[39mabs()\u001b[39m.\u001b[39mewm(n)\u001b[39m.\u001b[39mmean()\n\u001b[1;32m     <a href='vscode-notebook-cell://wsl%2Bubuntu-20.04/home/barttange/projects/seraph1nia/algobacktest/notebooks/Untitled.ipynb#W0sdnNjb2RlLXJlbW90ZQ%3D%3D?line=16'>17</a>\u001b[0m     \u001b[39mreturn\u001b[39;00m \u001b[39m100\u001b[39m \u001b[39m-\u001b[39m \u001b[39m100\u001b[39m \u001b[39m/\u001b[39m (\u001b[39m1\u001b[39m \u001b[39m+\u001b[39m rs)\n\u001b[0;32m---> <a href='vscode-notebook-cell://wsl%2Bubuntu-20.04/home/barttange/projects/seraph1nia/algobacktest/notebooks/Untitled.ipynb#W0sdnNjb2RlLXJlbW90ZQ%3D%3D?line=19'>20</a>\u001b[0m \u001b[39mimport\u001b[39;00m \u001b[39mtalib\u001b[39;00m\n\u001b[1;32m     <a href='vscode-notebook-cell://wsl%2Bubuntu-20.04/home/barttange/projects/seraph1nia/algobacktest/notebooks/Untitled.ipynb#W0sdnNjb2RlLXJlbW90ZQ%3D%3D?line=20'>21</a>\u001b[0m \u001b[39mimport\u001b[39;00m \u001b[39mnumpy\u001b[39;00m \u001b[39mas\u001b[39;00m \u001b[39mnp\u001b[39;00m\n\u001b[1;32m     <a href='vscode-notebook-cell://wsl%2Bubuntu-20.04/home/barttange/projects/seraph1nia/algobacktest/notebooks/Untitled.ipynb#W0sdnNjb2RlLXJlbW90ZQ%3D%3D?line=22'>23</a>\u001b[0m close \u001b[39m=\u001b[39m np\u001b[39m.\u001b[39mrandom\u001b[39m.\u001b[39mrandom(\u001b[39m100\u001b[39m)\n",
      "\u001b[0;31mModuleNotFoundError\u001b[0m: No module named 'talib'"
     ]
    }
   ],
   "source": [
    "import pandas as pd\n",
    "\n",
    "\n",
    "def SMA(array, n):\n",
    "    \"\"\"Simple moving average\"\"\"\n",
    "    return pd.Series(array).rolling(n).mean()\n",
    "\n",
    "\n",
    "def RSI(array, n):\n",
    "    \"\"\"Relative strength index\"\"\"\n",
    "    # Approximate; good enough\n",
    "    gain = pd.Series(array).diff()\n",
    "    loss = gain.copy()\n",
    "    gain[gain < 0] = 0\n",
    "    loss[loss > 0] = 0\n",
    "    rs = gain.ewm(n).mean() / loss.abs().ewm(n).mean()\n",
    "    return 100 - 100 / (1 + rs)\n",
    "\n",
    "\n",
    "import talib\n",
    "import numpy as np\n",
    "\n",
    "close = np.random.random(100)\n",
    "output = talib.SMA(close)\n",
    "print(output)"
   ]
  },
  {
   "cell_type": "markdown",
   "id": "6e219e48",
   "metadata": {},
   "source": [
    "### https://github.com/kernc/backtesting.py/blob/master/doc/examples/Multiple%20Time%20Frames.ipynb"
   ]
  },
  {
   "cell_type": "code",
   "execution_count": null,
   "id": "4fbb0ecb",
   "metadata": {},
   "outputs": [],
   "source": [
    "from backtesting import Strategy, Backtest\n",
    "from backtesting.lib import resample_apply\n",
    "\n",
    "\n",
    "class System(Strategy):\n",
    "    d_rsi = 30  # Daily RSI lookback periods\n",
    "    w_rsi = 30  # Weekly\n",
    "    level = 70\n",
    "    \n",
    "    def init(self):\n",
    "        # Compute moving averages the strategy demands\n",
    "        self.ma10 = self.I(SMA, self.data.Close, 10)\n",
    "        self.ma20 = self.I(SMA, self.data.Close, 20)\n",
    "        self.ma50 = self.I(SMA, self.data.Close, 50)\n",
    "        self.ma100 = self.I(SMA, self.data.Close, 100)\n",
    "        \n",
    "        # Compute daily RSI(30)\n",
    "        self.daily_rsi = self.I(RSI, self.data.Close, self.d_rsi)\n",
    "        \n",
    "        # To construct weekly RSI, we can use `resample_apply()`\n",
    "        # helper function from the library\n",
    "        self.weekly_rsi = resample_apply(\n",
    "            'W-FRI', RSI, self.data.Close, self.w_rsi)\n",
    "        \n",
    "        \n",
    "    def next(self):\n",
    "        price = self.data.Close[-1]\n",
    "        \n",
    "        # If we don't already have a position, and\n",
    "        # if all conditions are satisfied, enter long.\n",
    "        if (not self.position and\n",
    "            self.daily_rsi[-1] > self.level and\n",
    "            self.weekly_rsi[-1] > self.level and\n",
    "            self.weekly_rsi[-1] > self.daily_rsi[-1] and\n",
    "            self.ma10[-1] > self.ma20[-1] > self.ma50[-1] > self.ma100[-1] and\n",
    "            price > self.ma10[-1]):\n",
    "            \n",
    "            # Buy at market price on next open, but do\n",
    "            # set 8% fixed stop loss.\n",
    "            self.buy(sl=.92 * price)\n",
    "        \n",
    "        # If the price closes 2% or more below 10-day MA\n",
    "        # close the position, if any.\n",
    "        elif price < .98 * self.ma10[-1]:\n",
    "            self.position.close()"
   ]
  }
 ],
 "metadata": {
  "kernelspec": {
   "display_name": "Python 3.8.10 64-bit ('dashboard-vPDBuSKy-py3.8': poetry)",
   "language": "python",
   "name": "python3"
  },
  "language_info": {
   "codemirror_mode": {
    "name": "ipython",
    "version": 3
   },
   "file_extension": ".py",
   "mimetype": "text/x-python",
   "name": "python",
   "nbconvert_exporter": "python",
   "pygments_lexer": "ipython3",
   "version": "3.8.10"
  },
  "vscode": {
   "interpreter": {
    "hash": "1cd9601f17a28f6246012bb8c1320c628403452073b71410b03acc63880ceffc"
   }
  }
 },
 "nbformat": 4,
 "nbformat_minor": 5
}
